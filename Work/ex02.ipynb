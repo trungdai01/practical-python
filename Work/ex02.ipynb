{
 "cells": [
  {
   "cell_type": "code",
   "execution_count": 1,
   "metadata": {},
   "outputs": [],
   "source": [
    "import csv\n",
    "from pprint import pprint"
   ]
  },
  {
   "cell_type": "markdown",
   "metadata": {},
   "source": [
    "## 01_07_Functions"
   ]
  },
  {
   "cell_type": "code",
   "execution_count": 2,
   "metadata": {},
   "outputs": [
    {
     "name": "stdout",
     "output_type": "stream",
     "text": [
      "Total cost:  44671.15\n"
     ]
    }
   ],
   "source": [
    "def portfolio_cost(filename):\n",
    "    \"\"\"Computes the total cost (shares * price) of a portfolio file\"\"\"\n",
    "    total_cost = 0.0\n",
    "    with open(filename, \"rt\") as file:\n",
    "        rows = csv.reader(file)\n",
    "        header = next(rows)\n",
    "        for row in rows:\n",
    "            d = {\"name\": row[0], \"shares\": int(row[1]), \"price\": float(row[2])}\n",
    "            total_cost += d[\"shares\"] * d[\"price\"]\n",
    "            # keys = d.items()\n",
    "\n",
    "    return total_cost\n",
    "\n",
    "\n",
    "total_cost = portfolio_cost(\"Data/portfolio.csv\")\n",
    "print(\"Total cost: \", f\"{total_cost:0.2f}\")"
   ]
  },
  {
   "cell_type": "markdown",
   "metadata": {},
   "source": [
    "## 02_Containers"
   ]
  },
  {
   "cell_type": "markdown",
   "metadata": {},
   "source": [
    "### Exercise 2.4"
   ]
  },
  {
   "cell_type": "code",
   "execution_count": 3,
   "metadata": {},
   "outputs": [
    {
     "name": "stdout",
     "output_type": "stream",
     "text": [
      "List as containter:  [('AA', 100, 32.2), ('IBM', 50, 91.1), ('CAT', 150, 83.44), ('MSFT', 200, 51.23), ('GE', 95, 40.37), ('MSFT', 50, 65.1), ('IBM', 100, 70.44)]\n"
     ]
    }
   ],
   "source": [
    "def listOfTuples(filename):\n",
    "    records = []\n",
    "    with open(filename, \"rt\") as file:\n",
    "        rows = csv.reader(file)\n",
    "        header = next(rows)\n",
    "        for row in rows:\n",
    "            item = (row[0], int(row[1]), float(row[2]))\n",
    "            records.append(item)\n",
    "\n",
    "    return records\n",
    "\n",
    "\n",
    "portfolio_tuples = listOfTuples(\"Data/portfolio.csv\")\n",
    "print(\"List of tuples: \", portfolio_tuples)"
   ]
  },
  {
   "cell_type": "markdown",
   "metadata": {},
   "source": [
    "### Exercise 2.5"
   ]
  },
  {
   "cell_type": "code",
   "execution_count": 4,
   "metadata": {},
   "outputs": [
    {
     "name": "stdout",
     "output_type": "stream",
     "text": [
      "Dict as container: [{'name': 'AA', 'shares': 100, 'price': 32.2}, {'name': 'IBM', 'shares': 50, 'price': 91.1}, {'name': 'CAT', 'shares': 150, 'price': 83.44}, {'name': 'MSFT', 'shares': 200, 'price': 51.23}, {'name': 'GE', 'shares': 95, 'price': 40.37}, {'name': 'MSFT', 'shares': 50, 'price': 65.1}, {'name': 'IBM', 'shares': 100, 'price': 70.44}]\n",
      "[{'name': 'AA', 'price': 32.2, 'shares': 100},\n",
      " {'name': 'IBM', 'price': 91.1, 'shares': 50},\n",
      " {'name': 'CAT', 'price': 83.44, 'shares': 150},\n",
      " {'name': 'MSFT', 'price': 51.23, 'shares': 200},\n",
      " {'name': 'GE', 'price': 40.37, 'shares': 95},\n",
      " {'name': 'MSFT', 'price': 65.1, 'shares': 50},\n",
      " {'name': 'IBM', 'price': 70.44, 'shares': 100}]\n"
     ]
    }
   ],
   "source": [
    "def listOfDict(filename):\n",
    "    records = []\n",
    "    with open(filename, \"rt\") as file:\n",
    "        rows = csv.reader(file)\n",
    "        header = next(rows)\n",
    "        for row in rows:\n",
    "            item = {}\n",
    "            try:\n",
    "                item = {\n",
    "                    header[0]: row[0],\n",
    "                    header[1]: int(row[1]),\n",
    "                    header[2]: float(row[2]),\n",
    "                }\n",
    "                records.append(item)\n",
    "            except IndexError:\n",
    "                pass\n",
    "        return records\n",
    "\n",
    "\n",
    "portfolio_dict = listOfDict(\"Data/portfolio.csv\")\n",
    "print(f\"List of dicts: {portfolio_dict}\")\n",
    "pprint(portfolio_dict)"
   ]
  },
  {
   "cell_type": "markdown",
   "metadata": {},
   "source": [
    "### Exercise 2.6"
   ]
  },
  {
   "cell_type": "code",
   "execution_count": 5,
   "metadata": {},
   "outputs": [
    {
     "name": "stdout",
     "output_type": "stream",
     "text": [
      "Dict as container: \n",
      "{'AA': 9.22,\n",
      " 'AXP': 24.85,\n",
      " 'BA': 44.85,\n",
      " 'BAC': 11.27,\n",
      " 'C': 3.72,\n",
      " 'CAT': 35.46,\n",
      " 'CVX': 66.67,\n",
      " 'DD': 28.47,\n",
      " 'DIS': 24.22,\n",
      " 'GE': 13.48,\n",
      " 'GM': 0.75,\n",
      " 'HD': 23.16,\n",
      " 'HPQ': 34.35,\n",
      " 'IBM': 106.28,\n",
      " 'INTC': 15.72,\n",
      " 'JNJ': 55.16,\n",
      " 'JPM': 36.9,\n",
      " 'KFT': 26.11,\n",
      " 'KO': 49.16,\n",
      " 'MCD': 58.99,\n",
      " 'MMM': 57.1,\n",
      " 'MRK': 27.58,\n",
      " 'MSFT': 20.89,\n",
      " 'PFE': 15.19,\n",
      " 'PG': 51.94,\n",
      " 'T': 24.79,\n",
      " 'UTX': 52.61,\n",
      " 'VZ': 29.26,\n",
      " 'WMT': 49.74,\n",
      " 'XOM': 69.35}\n",
      "\n",
      "106.28\n",
      "20.89\n"
     ]
    }
   ],
   "source": [
    "def dictContainer(filename):\n",
    "    prices = {}\n",
    "    with open(filename, \"rt\") as file:\n",
    "        rows = csv.reader(file)\n",
    "        for row in rows:\n",
    "            try:\n",
    "                prices[row[0]] = float(row[1])\n",
    "            except IndexError:\n",
    "                pass\n",
    "        return prices\n",
    "\n",
    "\n",
    "prices_dict = dictContainer(\"Data/prices.csv\")\n",
    "print(\"Dict as container: \")\n",
    "pprint(prices_dict)\n",
    "print()\n",
    "print(prices_dict[\"IBM\"])\n",
    "print(prices_dict[\"MSFT\"])"
   ]
  },
  {
   "cell_type": "markdown",
   "metadata": {},
   "source": [
    "### Exercise 2.7"
   ]
  },
  {
   "cell_type": "code",
   "execution_count": 6,
   "metadata": {},
   "outputs": [
    {
     "name": "stdout",
     "output_type": "stream",
     "text": [
      "[('AA', 100, 9.22, -22.980000000000004),\n",
      " ('IBM', 50, 106.28, 15.180000000000007),\n",
      " ('CAT', 150, 35.46, -47.98),\n",
      " ('MSFT', 200, 20.89, -30.339999999999996),\n",
      " ('GE', 95, 13.48, -26.889999999999997),\n",
      " ('MSFT', 50, 20.89, -44.209999999999994),\n",
      " ('IBM', 100, 106.28, 35.84)]\n"
     ]
    }
   ],
   "source": [
    "def make_report(portfolio, prices):\n",
    "    records = []\n",
    "    for row in portfolio:\n",
    "        # print(row)\n",
    "        name = row[\"name\"]\n",
    "        shares = row[\"shares\"]\n",
    "        price = row[\"price\"]\n",
    "        changes = prices[name] - price\n",
    "        record = (name, shares, prices[name], changes)\n",
    "        records.append(record)\n",
    "\n",
    "    return records\n",
    "\n",
    "\n",
    "records_report = make_report(portfolio_dict, prices_dict)\n",
    "pprint(records_report)"
   ]
  },
  {
   "cell_type": "markdown",
   "metadata": {},
   "source": [
    "### Exercise 2.8 + 2.9 + 2.10 + 2.11 + 2.12"
   ]
  },
  {
   "cell_type": "code",
   "execution_count": 7,
   "metadata": {},
   "outputs": [
    {
     "name": "stdout",
     "output_type": "stream",
     "text": [
      "      Name     Shares      Price     Change \n",
      "---------- ---------- ---------- ---------- \n",
      "        AA        100      $9.22     -22.98\n",
      "       IBM         50    $106.28      15.18\n",
      "       CAT        150     $35.46     -47.98\n",
      "      MSFT        200     $20.89     -30.34\n",
      "        GE         95     $13.48     -26.89\n",
      "      MSFT         50     $20.89     -44.21\n",
      "       IBM        100    $106.28      35.84\n"
     ]
    }
   ],
   "source": [
    "def print_report(report):\n",
    "    headers = (\"Name\", \"Shares\", \"Price\", \"Change\")\n",
    "    print((\"%10s \" * len(headers)) % headers)\n",
    "    print((\"-\" * 10 + \" \") * len(headers))\n",
    "    for name, shares, price, change in report:\n",
    "        price_str = \"$\" + str(price)\n",
    "        print(f\"{name:>10s} {shares:>10d} {price_str:>10s} {change:>10.2f}\")\n",
    "\n",
    "\n",
    "print_report(records_report)"
   ]
  },
  {
   "cell_type": "markdown",
   "metadata": {},
   "source": [
    "### Exercise 2.13\n"
   ]
  },
  {
   "cell_type": "code",
   "execution_count": 8,
   "metadata": {},
   "outputs": [
    {
     "name": "stdout",
     "output_type": "stream",
     "text": [
      "0 1 2 3 4 5 6 7 8 9 \n",
      "10 9 8 7 6 5 4 3 2 1 \n",
      "0 2 4 6 8 "
     ]
    }
   ],
   "source": [
    "for n in range(10):\n",
    "    print(n, end=\" \")\n",
    "print()\n",
    "for n in range(10, 0, -1):\n",
    "    print(n, end=\" \")\n",
    "print()\n",
    "for n in range(0, 10, 2):\n",
    "    print(n, end=\" \")"
   ]
  },
  {
   "cell_type": "markdown",
   "metadata": {},
   "source": [
    "### Exercise 2.15 + 2.16\n"
   ]
  },
  {
   "cell_type": "code",
   "execution_count": 9,
   "metadata": {},
   "outputs": [
    {
     "name": "stdout",
     "output_type": "stream",
     "text": [
      "Row 4: Bad row: ['MSFT', '', '51.23']\n",
      "Row 7: Bad row: ['IBM', '', '70.44']\n",
      "27381.15\n"
     ]
    }
   ],
   "source": [
    "def portfolio_cost_missing(filename):\n",
    "    records = []\n",
    "    total_cost = 0.0\n",
    "    with open(filename, \"rt\") as file:\n",
    "        rows = csv.reader(file)\n",
    "        header = next(rows)\n",
    "        for rowno, row in enumerate(rows, start=1):\n",
    "            record = dict(zip(header, row))\n",
    "            try:\n",
    "                records.append(record)\n",
    "                nshares = int(record[\"shares\"])\n",
    "                price = float(record[\"price\"])\n",
    "                total_cost += nshares * price\n",
    "            except ValueError:\n",
    "                print(f\"Row {rowno}: Bad row: {row}\")\n",
    "\n",
    "    return records, total_cost\n",
    "\n",
    "\n",
    "_, cost_missing = portfolio_cost_missing(\"Data/missing.csv\")\n",
    "print(cost_missing)"
   ]
  },
  {
   "cell_type": "code",
   "execution_count": 10,
   "metadata": {},
   "outputs": [
    {
     "name": "stdout",
     "output_type": "stream",
     "text": [
      "[{'date': '6/11/2007',\n",
      "  'name': 'AA',\n",
      "  'price': '32.20',\n",
      "  'shares': '100',\n",
      "  'time': '9:50am'},\n",
      " {'date': '5/13/2007',\n",
      "  'name': 'IBM',\n",
      "  'price': '91.10',\n",
      "  'shares': '50',\n",
      "  'time': '4:20pm'},\n",
      " {'date': '9/23/2006',\n",
      "  'name': 'CAT',\n",
      "  'price': '83.44',\n",
      "  'shares': '150',\n",
      "  'time': '1:30pm'},\n",
      " {'date': '5/17/2007',\n",
      "  'name': 'MSFT',\n",
      "  'price': '51.23',\n",
      "  'shares': '200',\n",
      "  'time': '10:30am'},\n",
      " {'date': '2/1/2006',\n",
      "  'name': 'GE',\n",
      "  'price': '40.37',\n",
      "  'shares': '95',\n",
      "  'time': '10:45am'},\n",
      " {'date': '10/31/2006',\n",
      "  'name': 'MSFT',\n",
      "  'price': '65.10',\n",
      "  'shares': '50',\n",
      "  'time': '12:05pm'},\n",
      " {'date': '7/9/2006',\n",
      "  'name': 'IBM',\n",
      "  'price': '70.44',\n",
      "  'shares': '100',\n",
      "  'time': '3:15pm'}]\n"
     ]
    }
   ],
   "source": [
    "cost_date, _ = portfolio_cost_missing(\"Data/portfoliodate.csv\")\n",
    "pprint(cost_date)"
   ]
  },
  {
   "cell_type": "code",
   "execution_count": 11,
   "metadata": {},
   "outputs": [
    {
     "name": "stdout",
     "output_type": "stream",
     "text": [
      "[{'name': 'AA', 'shares': 100, 'price': 32.2}, {'name': 'IBM', 'shares': 50, 'price': 91.1}, {'name': 'CAT', 'shares': 150, 'price': 83.44}, {'name': 'MSFT', 'shares': 200, 'price': 51.23}, {'name': 'GE', 'shares': 95, 'price': 40.37}, {'name': 'MSFT', 'shares': 50, 'price': 65.1}, {'name': 'IBM', 'shares': 100, 'price': 70.44}]\n"
     ]
    }
   ],
   "source": [
    "def read_portfolio_1(filename):\n",
    "    records = []\n",
    "    with open(filename, \"rt\") as file:\n",
    "        rows = csv.reader(file)\n",
    "        header = next(rows)\n",
    "        for row in rows:\n",
    "            stock = dict(zip(header, row))\n",
    "            item = {\n",
    "                header[0]: stock[\"name\"],\n",
    "                header[1]: int(stock[\"shares\"]),\n",
    "                header[2]: float(stock[\"price\"]),\n",
    "            }\n",
    "            # print(stock)\n",
    "            records.append(item)\n",
    "\n",
    "    return records\n",
    "\n",
    "\n",
    "portfolio_1 = read_portfolio_1(\"Data/portfolio.csv\")\n",
    "print(portfolio_1)"
   ]
  },
  {
   "cell_type": "markdown",
   "metadata": {},
   "source": [
    "### Exercise 2.17"
   ]
  },
  {
   "cell_type": "code",
   "execution_count": 12,
   "metadata": {},
   "outputs": [
    {
     "name": "stdout",
     "output_type": "stream",
     "text": [
      "[[('name', 'AA'), ('shares', 100), ('price', 32.2)],\n",
      " [('name', 'IBM'), ('shares', 50), ('price', 91.1)],\n",
      " [('name', 'CAT'), ('shares', 150), ('price', 83.44)],\n",
      " [('name', 'MSFT'), ('shares', 200), ('price', 51.23)],\n",
      " [('name', 'GE'), ('shares', 95), ('price', 40.37)],\n",
      " [('name', 'MSFT'), ('shares', 50), ('price', 65.1)],\n",
      " [('name', 'IBM'), ('shares', 100), ('price', 70.44)]]\n",
      "\n",
      "[[('name', 'AA'), ('shares', 100), ('price', 32.2)],\n",
      " [('name', 'CAT'), ('shares', 150), ('price', 83.44)],\n",
      " [('name', 'GE'), ('shares', 95), ('price', 40.37)],\n",
      " [('name', 'IBM'), ('shares', 50), ('price', 91.1)],\n",
      " [('name', 'IBM'), ('shares', 100), ('price', 70.44)],\n",
      " [('name', 'MSFT'), ('shares', 50), ('price', 65.1)],\n",
      " [('name', 'MSFT'), ('shares', 200), ('price', 51.23)]]\n"
     ]
    }
   ],
   "source": [
    "dictList = []\n",
    "for row in portfolio_1:\n",
    "    # print(row)\n",
    "    pricelist = list(zip(row.keys(), row.values()))\n",
    "    # print(pricelist)\n",
    "    # print(min(pricelist))\n",
    "    dictList.append(pricelist)\n",
    "pprint(dictList)\n",
    "print()\n",
    "pprint(sorted(dictList))"
   ]
  },
  {
   "cell_type": "markdown",
   "metadata": {},
   "source": [
    "### Exercise 2.18"
   ]
  },
  {
   "cell_type": "code",
   "execution_count": 13,
   "metadata": {},
   "outputs": [
    {
     "name": "stdout",
     "output_type": "stream",
     "text": [
      "defaultdict(<class 'list'>, {'IBM': [(100, 45.23), (50, 91.1)], 'GOOG': [(100, 490.1), (75, 572.45)], 'AA': [(50, 23.15)], 'CAT': [(150, 83.44)]})\n",
      "Counter({'MSFT': 250, 'IBM': 150, 'CAT': 150, 'AA': 100, 'GE': 95})\n",
      "150\n",
      "250\n",
      "[('MSFT', 250), ('IBM', 150), ('CAT', 150), ('AA', 100)]\n",
      "Counter({'HPQ': 250, 'GE': 125, 'AA': 50, 'MSFT': 25})\n",
      "Counter({'MSFT': 275, 'HPQ': 250, 'GE': 220, 'AA': 150, 'IBM': 150, 'CAT': 150})\n"
     ]
    }
   ],
   "source": [
    "from collections import defaultdict, Counter\n",
    "\n",
    "port = {\n",
    "    (\"GOOG\", 100, 490.1),\n",
    "    (\"IBM\", 50, 91.1),\n",
    "    (\"CAT\", 150, 83.44),\n",
    "    (\"IBM\", 100, 45.23),\n",
    "    (\"GOOG\", 75, 572.45),\n",
    "    (\"AA\", 50, 23.15),\n",
    "}\n",
    "\n",
    "holdings = defaultdict(list)\n",
    "for name, shares, price in port:\n",
    "    holdings[name].append((shares, price))\n",
    "print(holdings)\n",
    "\n",
    "counter = Counter()\n",
    "for row in portfolio_1:\n",
    "    counter[row[\"name\"]] += row[\"shares\"]\n",
    "print(counter)\n",
    "print(counter[\"IBM\"])\n",
    "print(counter[\"MSFT\"])\n",
    "print(counter.most_common(4))\n",
    "\n",
    "portfolio_2 = read_portfolio_1(\"Data/portfolio2.csv\")\n",
    "counter2 = Counter()\n",
    "for row in portfolio_2:\n",
    "    counter2[row[\"name\"]] += row[\"shares\"]\n",
    "print(counter2)\n",
    "\n",
    "combined = counter + counter2\n",
    "print(combined)"
   ]
  },
  {
   "cell_type": "code",
   "execution_count": 14,
   "metadata": {},
   "outputs": [
    {
     "data": {
      "text/plain": [
       "[6, 8]"
      ]
     },
     "execution_count": 14,
     "metadata": {},
     "output_type": "execute_result"
    }
   ],
   "source": [
    "nums = [1, 2, 3, 4]\n",
    "squares = [x * x for x in nums]\n",
    "squares\n",
    "twice = [2 * x for x in nums if x > 2]\n",
    "twice"
   ]
  },
  {
   "cell_type": "markdown",
   "metadata": {},
   "source": [
    "### Exercise 2.20"
   ]
  },
  {
   "cell_type": "code",
   "execution_count": 15,
   "metadata": {},
   "outputs": [
    {
     "name": "stdout",
     "output_type": "stream",
     "text": [
      "44671.15\n",
      "28686.1\n",
      "[3220.0000000000005, 4555.0, 12516.0, 10246.0, 3835.1499999999996, 3254.9999999999995, 7044.0]\n"
     ]
    }
   ],
   "source": [
    "portfolio_3 = read_portfolio_1(\"Data/portfolio.csv\")\n",
    "cost_1 = sum([item[\"shares\"] * item[\"price\"] for item in portfolio_3])\n",
    "print(cost_1)\n",
    "\n",
    "value = sum(\n",
    "    [item[\"shares\"] * prices_dict[item[\"name\"]] for item in portfolio_3]\n",
    ")\n",
    "print(value)\n",
    "\n",
    "print([item[\"shares\"] * item[\"price\"] for item in portfolio_3])"
   ]
  },
  {
   "cell_type": "code",
   "execution_count": 16,
   "metadata": {},
   "outputs": [
    {
     "name": "stdout",
     "output_type": "stream",
     "text": [
      "[{'name': 'CAT', 'shares': 150, 'price': 83.44}, {'name': 'MSFT', 'shares': 200, 'price': 51.23}]\n",
      "[{'name': 'IBM', 'shares': 50, 'price': 91.1}, {'name': 'MSFT', 'shares': 200, 'price': 51.23}, {'name': 'MSFT', 'shares': 50, 'price': 65.1}, {'name': 'IBM', 'shares': 100, 'price': 70.44}]\n",
      "[{'name': 'CAT', 'shares': 150, 'price': 83.44}, {'name': 'MSFT', 'shares': 200, 'price': 51.23}]\n"
     ]
    }
   ],
   "source": [
    "more100 = [s for s in portfolio_3 if s[\"shares\"] > 100]\n",
    "print(more100)\n",
    "msftibm = [s for s in portfolio_3 if s[\"name\"] in {\"MSFT\", \"IBM\"}]\n",
    "print(msftibm)\n",
    "cost10k = [\n",
    "    item for item in portfolio_3 if item[\"shares\"] * item[\"price\"] > 10000\n",
    "]\n",
    "print(cost10k)"
   ]
  },
  {
   "cell_type": "markdown",
   "metadata": {},
   "source": [
    "### Exercise 2.22"
   ]
  },
  {
   "cell_type": "code",
   "execution_count": 17,
   "metadata": {},
   "outputs": [
    {
     "name": "stdout",
     "output_type": "stream",
     "text": [
      "[('AA', 100), ('IBM', 50), ('CAT', 150), ('MSFT', 200), ('GE', 95), ('MSFT', 50), ('IBM', 100)]\n",
      "{'AA', 'IBM', 'GE', 'MSFT', 'CAT'}\n",
      "{'AA': 0, 'IBM': 0, 'GE': 0, 'MSFT': 0, 'CAT': 0}\n",
      "{'AA': 100, 'IBM': 150, 'GE': 95, 'MSFT': 250, 'CAT': 150}\n",
      "{'AA': 9.22, 'IBM': 106.28, 'GE': 13.48, 'MSFT': 20.89, 'CAT': 35.46}\n"
     ]
    }
   ],
   "source": [
    "name_shares = [(item[\"name\"], item[\"shares\"]) for item in portfolio_3]\n",
    "print(name_shares)\n",
    "\n",
    "names = {item[\"name\"] for item in portfolio_3}\n",
    "print(names)\n",
    "\n",
    "holdings_1 = {name: 0 for name in names}\n",
    "print(holdings_1)\n",
    "\n",
    "\n",
    "def dictionary_comprehension(holds, portfolio):\n",
    "    for item in portfolio:\n",
    "        holds[item[\"name\"]] += item[\"shares\"]\n",
    "    return holds\n",
    "\n",
    "\n",
    "holds = dictionary_comprehension(holdings_1, portfolio_3)\n",
    "print(holds)\n",
    "\n",
    "portfolio_prices = {name: prices_dict[name] for name in names}\n",
    "print(portfolio_prices)"
   ]
  },
  {
   "cell_type": "markdown",
   "metadata": {},
   "source": [
    "### Exercise 2.23"
   ]
  },
  {
   "cell_type": "code",
   "execution_count": 18,
   "metadata": {},
   "outputs": [
    {
     "name": "stdout",
     "output_type": "stream",
     "text": [
      "header: ['name', 'date', 'time', 'shares', 'price']\n",
      "indices: [0, 3, 4]\n",
      "record: {'name': 'AA', 'shares': '100', 'price': '32.20'}\n",
      "portfolio_4: [{'name': 'IBM', 'shares': '50', 'price': '91.10'}, {'name': 'CAT', 'shares': '150', 'price': '83.44'}, {'name': 'MSFT', 'shares': '200', 'price': '51.23'}, {'name': 'GE', 'shares': '95', 'price': '40.37'}, {'name': 'MSFT', 'shares': '50', 'price': '65.10'}, {'name': 'IBM', 'shares': '100', 'price': '70.44'}]\n"
     ]
    }
   ],
   "source": [
    "f = open(\"Data/portfoliodate.csv\")\n",
    "rows = csv.reader(f)\n",
    "header = next(rows)\n",
    "print(f\"header: {header}\")\n",
    "\n",
    "select = [\"name\", \"shares\", \"price\"]\n",
    "\n",
    "indices = [header.index(colname) for colname in select]\n",
    "print(f\"indices: {indices}\")\n",
    "\n",
    "row = next(rows)\n",
    "record = {colname: row[index] for colname, index in zip(select, indices)}\n",
    "print(f\"record: {record}\")\n",
    "\n",
    "portfolio_4 = [\n",
    "    {colname: row[index] for colname, index in zip(select, indices)}\n",
    "    for row in rows\n",
    "]\n",
    "print(f\"portfolio_4: {portfolio_4}\")"
   ]
  },
  {
   "cell_type": "code",
   "execution_count": 19,
   "metadata": {},
   "outputs": [
    {
     "name": "stdout",
     "output_type": "stream",
     "text": [
      "True\n",
      "[100, 101]\n"
     ]
    }
   ],
   "source": [
    "a = [2, 3, [100, 101], 4]\n",
    "b = list(a)\n",
    "print(a[2] is b[2])\n",
    "\n",
    "import copy\n",
    "\n",
    "c = copy.deepcopy(a)\n",
    "# c = list(a)\n",
    "a[2].append(102)\n",
    "print(c[2])"
   ]
  },
  {
   "cell_type": "markdown",
   "metadata": {},
   "source": [
    "### Exercise 2.24"
   ]
  },
  {
   "cell_type": "code",
   "execution_count": 36,
   "metadata": {},
   "outputs": [
    {
     "name": "stdout",
     "output_type": "stream",
     "text": [
      "[(<class 'str'>, 'AA'), (<class 'int'>, '100'), (<class 'float'>, '32.20')]\n",
      "['AA', 100, 32.2]\n",
      "3220.0000000000005\n",
      "['AA', 100, 32.2]\n"
     ]
    }
   ],
   "source": [
    "file = open(\"Data/portfolio.csv\", \"rt\")\n",
    "rows = csv.reader(file)\n",
    "headers = next(rows)\n",
    "row = next(rows)\n",
    "\n",
    "types = [str, int, float]\n",
    "r = list(zip(types, row))\n",
    "print(r)\n",
    "\n",
    "converted = []\n",
    "for func, val in zip(types, row):\n",
    "    converted.append(func(val))\n",
    "print(f\"{converted}\")\n",
    "print(f\"{converted[1] * converted[2]}\")\n",
    "\n",
    "converted = [func(val) for func, val in zip(types, row)]\n",
    "print(converted)"
   ]
  },
  {
   "cell_type": "markdown",
   "metadata": {},
   "source": [
    "### Exercise 2.25"
   ]
  },
  {
   "cell_type": "code",
   "execution_count": 44,
   "metadata": {},
   "outputs": [
    {
     "name": "stdout",
     "output_type": "stream",
     "text": [
      "{'name': 'AA', 'shares': 100, 'price': 32.2}\n",
      "{'name': 'AA', 'shares': 100, 'price': 32.2}\n"
     ]
    }
   ],
   "source": [
    "print(dict(zip(headers, converted)))\n",
    "print({name: func(val) for name, func, val in zip(headers, types, row)})"
   ]
  },
  {
   "cell_type": "markdown",
   "metadata": {},
   "source": [
    "### Exercise 2.26"
   ]
  },
  {
   "cell_type": "code",
   "execution_count": 46,
   "metadata": {},
   "outputs": [
    {
     "name": "stdout",
     "output_type": "stream",
     "text": [
      "['name', 'price', 'date', 'time', 'change', 'open', 'high', 'low', 'volume']\n",
      "['AA', '39.48', '6/11/2007', '9:36am', '-0.18', '39.67', '39.69', '39.45', '181800']\n"
     ]
    }
   ],
   "source": [
    "f = open(\"Data/dowstocks.csv\", \"r\")\n",
    "rows = csv.reader(f)\n",
    "headers = next(rows)\n",
    "row = next(rows)\n",
    "print(headers)\n",
    "print(row)"
   ]
  },
  {
   "cell_type": "code",
   "execution_count": 50,
   "metadata": {},
   "outputs": [
    {
     "name": "stdout",
     "output_type": "stream",
     "text": [
      "['AA', 39.48, '6/11/2007', '9:36am', -0.18, 39.67, 39.69, 39.45, 181800]\n",
      "{'name': 'AA', 'price': 39.48, 'date': '6/11/2007', 'time': '9:36am', 'change': -0.18, 'open': 39.67, 'high': 39.69, 'low': 39.45, 'volume': 181800}\n"
     ]
    }
   ],
   "source": [
    "types = [str, float, str, str, float, float, float, float, int]\n",
    "converted = [func(val) for func, val in zip(types, row)]\n",
    "print(converted)\n",
    "record = dict(zip(headers, converted))\n",
    "print(record)"
   ]
  },
  {
   "cell_type": "code",
   "execution_count": 20,
   "metadata": {},
   "outputs": [],
   "source": [
    "a = [2, 3, [100, 101], 4]"
   ]
  },
  {
   "cell_type": "code",
   "execution_count": 21,
   "metadata": {},
   "outputs": [
    {
     "name": "stdout",
     "output_type": "stream",
     "text": [
      "[33, 22, 55, 11, 44]\n"
     ]
    }
   ],
   "source": [
    "s = {11, 22, 33, 44, 55}\n",
    "sl = list(s)\n",
    "print(sl)"
   ]
  }
 ],
 "metadata": {
  "kernelspec": {
   "display_name": "Python 3",
   "language": "python",
   "name": "python3"
  },
  "language_info": {
   "codemirror_mode": {
    "name": "ipython",
    "version": 3
   },
   "file_extension": ".py",
   "mimetype": "text/x-python",
   "name": "python",
   "nbconvert_exporter": "python",
   "pygments_lexer": "ipython3",
   "version": "3.11.8"
  }
 },
 "nbformat": 4,
 "nbformat_minor": 2
}

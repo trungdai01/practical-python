{
 "cells": [
  {
   "cell_type": "code",
   "execution_count": 1,
   "metadata": {},
   "outputs": [],
   "source": [
    "import csv\n",
    "from pprint import pprint"
   ]
  },
  {
   "cell_type": "markdown",
   "metadata": {},
   "source": [
    "## 01_07_Functions"
   ]
  },
  {
   "cell_type": "code",
   "execution_count": 2,
   "metadata": {},
   "outputs": [
    {
     "name": "stdout",
     "output_type": "stream",
     "text": [
      "Total cost:  44671.15\n"
     ]
    }
   ],
   "source": [
    "def portfolio_cost(filename):\n",
    "    '''Computes the total cost (shares * price) of a portfolio file'''\n",
    "    total_cost = 0.0\n",
    "    with open(filename, \"rt\") as file:\n",
    "        rows = csv.reader(file)\n",
    "        header = next(rows)\n",
    "        for row in rows:\n",
    "            d = {\n",
    "                \"name\": row[0], \n",
    "                \"shares\": int(row[1]), \n",
    "                \"price\": float(row[2])\n",
    "            }\n",
    "            total_cost += d[\"shares\"] * d[\"price\"]\n",
    "            # keys = d.items()\n",
    "\n",
    "    return total_cost\n",
    "\n",
    "portfolio = portfolio_cost(\"Data/portfolio.csv\")\n",
    "print(\"Total cost: \", f\"{portfolio:0.2f}\")"
   ]
  },
  {
   "cell_type": "markdown",
   "metadata": {},
   "source": [
    "## 02_Containers"
   ]
  },
  {
   "cell_type": "markdown",
   "metadata": {},
   "source": [
    "### Exercise 2.4"
   ]
  },
  {
   "cell_type": "code",
   "execution_count": 3,
   "metadata": {},
   "outputs": [
    {
     "name": "stdout",
     "output_type": "stream",
     "text": [
      "List as containter:  [('AA', 100, 32.2), ('IBM', 50, 91.1), ('CAT', 150, 83.44), ('MSFT', 200, 51.23), ('GE', 95, 40.37), ('MSFT', 50, 65.1), ('IBM', 100, 70.44)]\n"
     ]
    }
   ],
   "source": [
    "def listOfTuples(filename):\n",
    "    records = []\n",
    "    with open(filename, \"rt\") as file:\n",
    "        rows = csv.reader(file)\n",
    "        header = next(rows)\n",
    "        for row in rows:\n",
    "            item = (row[0], int(row[1]), float(row[2]))\n",
    "            records.append(item)\n",
    "\n",
    "    return records\n",
    "\n",
    "\n",
    "records = listOfTuples(\"Data/portfolio.csv\")\n",
    "print(\"List as containter: \", records)"
   ]
  },
  {
   "cell_type": "markdown",
   "metadata": {},
   "source": [
    "### Exercise 2.5"
   ]
  },
  {
   "cell_type": "code",
   "execution_count": 4,
   "metadata": {},
   "outputs": [
    {
     "name": "stdout",
     "output_type": "stream",
     "text": [
      "Dict as container:  [{'name': 'AA', 'shares': 100, 'price': 32.2}, {'name': 'IBM', 'shares': 50, 'price': 91.1}, {'name': 'CAT', 'shares': 150, 'price': 83.44}, {'name': 'MSFT', 'shares': 200, 'price': 51.23}, {'name': 'GE', 'shares': 95, 'price': 40.37}, {'name': 'MSFT', 'shares': 50, 'price': 65.1}, {'name': 'IBM', 'shares': 100, 'price': 70.44}]\n",
      "[{'name': 'AA', 'price': 32.2, 'shares': 100},\n",
      " {'name': 'IBM', 'price': 91.1, 'shares': 50},\n",
      " {'name': 'CAT', 'price': 83.44, 'shares': 150},\n",
      " {'name': 'MSFT', 'price': 51.23, 'shares': 200},\n",
      " {'name': 'GE', 'price': 40.37, 'shares': 95},\n",
      " {'name': 'MSFT', 'price': 65.1, 'shares': 50},\n",
      " {'name': 'IBM', 'price': 70.44, 'shares': 100}]\n"
     ]
    }
   ],
   "source": [
    "def listOfDict(filename):\n",
    "    records = []\n",
    "    with open(filename, \"rt\") as file:\n",
    "        rows = csv.reader(file)\n",
    "        header = next(rows)\n",
    "        for row in rows:\n",
    "            item = {}\n",
    "            try:\n",
    "                item = {\n",
    "                    header[0] : row[0],\n",
    "                    header[1] : int(row[1]),\n",
    "                    header[2] : float(row[2]) \n",
    "                }\n",
    "                records.append(item)\n",
    "            except IndexError:\n",
    "                pass\n",
    "        return records\n",
    "\n",
    "records = listOfDict(\"Data/portfolio.csv\")\n",
    "# print(f\"Dict as container: {records}\")\n",
    "print(\"Dict as container: \", records)\n",
    "pprint(records)"
   ]
  },
  {
   "cell_type": "markdown",
   "metadata": {},
   "source": [
    "### Exercise 2.6"
   ]
  },
  {
   "cell_type": "code",
   "execution_count": 5,
   "metadata": {},
   "outputs": [
    {
     "name": "stdout",
     "output_type": "stream",
     "text": [
      "Dict as container: \n",
      "{'AA': 9.22,\n",
      " 'AXP': 24.85,\n",
      " 'BA': 44.85,\n",
      " 'BAC': 11.27,\n",
      " 'C': 3.72,\n",
      " 'CAT': 35.46,\n",
      " 'CVX': 66.67,\n",
      " 'DD': 28.47,\n",
      " 'DIS': 24.22,\n",
      " 'GE': 13.48,\n",
      " 'GM': 0.75,\n",
      " 'HD': 23.16,\n",
      " 'HPQ': 34.35,\n",
      " 'IBM': 106.28,\n",
      " 'INTC': 15.72,\n",
      " 'JNJ': 55.16,\n",
      " 'JPM': 36.9,\n",
      " 'KFT': 26.11,\n",
      " 'KO': 49.16,\n",
      " 'MCD': 58.99,\n",
      " 'MMM': 57.1,\n",
      " 'MRK': 27.58,\n",
      " 'MSFT': 20.89,\n",
      " 'PFE': 15.19,\n",
      " 'PG': 51.94,\n",
      " 'T': 24.79,\n",
      " 'UTX': 52.61,\n",
      " 'VZ': 29.26,\n",
      " 'WMT': 49.74,\n",
      " 'XOM': 69.35}\n",
      "106.28\n",
      "20.89\n"
     ]
    }
   ],
   "source": [
    "def dictContainer(filename):\n",
    "    prices = {}\n",
    "    with open(filename, \"rt\") as file:\n",
    "        rows = csv.reader(file)\n",
    "        for row in rows:\n",
    "            try:\n",
    "                prices[row[0]] = float(row[1])\n",
    "            except IndexError:\n",
    "                pass\n",
    "        return prices\n",
    "\n",
    "\n",
    "prices = dictContainer(\"Data/prices.csv\")\n",
    "print(\"Dict as container: \")\n",
    "pprint(prices)\n",
    "print(prices[\"IBM\"])\n",
    "print(prices[\"MSFT\"])"
   ]
  },
  {
   "cell_type": "markdown",
   "metadata": {},
   "source": [
    "### Exercise 2.7"
   ]
  },
  {
   "cell_type": "code",
   "execution_count": 6,
   "metadata": {},
   "outputs": [
    {
     "name": "stdout",
     "output_type": "stream",
     "text": [
      "[('AA', 100, 9.22, -22.980000000000004),\n",
      " ('IBM', 50, 106.28, 15.180000000000007),\n",
      " ('CAT', 150, 35.46, -47.98),\n",
      " ('MSFT', 200, 20.89, -30.339999999999996),\n",
      " ('GE', 95, 13.48, -26.889999999999997),\n",
      " ('MSFT', 50, 20.89, -44.209999999999994),\n",
      " ('IBM', 100, 106.28, 35.84)]\n"
     ]
    }
   ],
   "source": [
    "def make_report(portfolio, prices):\n",
    "    records = []\n",
    "    for row in portfolio:\n",
    "        # print(row)\n",
    "        name = row[\"name\"]\n",
    "        shares = row[\"shares\"]\n",
    "        price = row[\"price\"]\n",
    "        changes = prices[name] - price\n",
    "        record = (name, shares, prices[name], changes)\n",
    "        records.append(record)\n",
    "\n",
    "    return records\n",
    "\n",
    "\n",
    "records_report = make_report(records, prices)\n",
    "pprint(records_report)"
   ]
  },
  {
   "cell_type": "markdown",
   "metadata": {},
   "source": [
    "### Exercise 2.8 + 2.9 + 2.10 + 2.11 + 2.12"
   ]
  },
  {
   "cell_type": "code",
   "execution_count": 7,
   "metadata": {},
   "outputs": [
    {
     "name": "stdout",
     "output_type": "stream",
     "text": [
      "      Name     Shares      Price     Change \n",
      "---------- ---------- ---------- ---------- \n",
      "        AA        100      $9.22     -22.98\n",
      "       IBM         50    $106.28      15.18\n",
      "       CAT        150     $35.46     -47.98\n",
      "      MSFT        200     $20.89     -30.34\n",
      "        GE         95     $13.48     -26.89\n",
      "      MSFT         50     $20.89     -44.21\n",
      "       IBM        100    $106.28      35.84\n"
     ]
    }
   ],
   "source": [
    "def print_report(report):\n",
    "    headers = (\"Name\", \"Shares\", \"Price\", \"Change\")\n",
    "    print((\"%10s \" * len(headers)) % headers)\n",
    "    print((\"-\" * 10 + \" \") * len(headers))\n",
    "    for name, shares, price, change in report:\n",
    "        price_str = \"$\" + str(price)\n",
    "        print(f\"{name:>10s} {shares:>10d} {price_str:>10s} {change:>10.2f}\")\n",
    "    \n",
    "\n",
    "print_report(records_report)"
   ]
  },
  {
   "cell_type": "markdown",
   "metadata": {},
   "source": [
    "### Exercise 2.13\n"
   ]
  },
  {
   "cell_type": "code",
   "execution_count": 8,
   "metadata": {},
   "outputs": [
    {
     "name": "stdout",
     "output_type": "stream",
     "text": [
      "0 1 2 3 4 5 6 7 8 9 \n",
      "10 9 8 7 6 5 4 3 2 1 \n",
      "0 2 4 6 8 "
     ]
    }
   ],
   "source": [
    "for n in range(10):\n",
    "    print(n, end = ' ')\n",
    "print()    \n",
    "for n in range(10, 0, -1):\n",
    "    print(n, end = ' ')\n",
    "print()\n",
    "for n in range(0, 10, 2):\n",
    "    print(n, end = ' ')"
   ]
  },
  {
   "cell_type": "markdown",
   "metadata": {},
   "source": [
    "### Exercise 2.15 + 2.16\n"
   ]
  },
  {
   "cell_type": "code",
   "execution_count": 9,
   "metadata": {},
   "outputs": [
    {
     "name": "stdout",
     "output_type": "stream",
     "text": [
      "Row 4: Bad row: ['MSFT', '', '51.23']\n",
      "Row 7: Bad row: ['IBM', '', '70.44']\n",
      "27381.15\n"
     ]
    }
   ],
   "source": [
    "def portfolio_cost_missing(filename):\n",
    "    records = []\n",
    "    total_cost = 0.0\n",
    "    with open(filename, \"rt\") as file:\n",
    "        rows = csv.reader(file)\n",
    "        header = next(rows)\n",
    "        for rowno, row in enumerate(rows, start=1):\n",
    "            record = dict(zip(header, row))\n",
    "            try:\n",
    "                nshares  = int(record['shares'])\n",
    "                price = float(record['price'])\n",
    "                total_cost += nshares * price\n",
    "            except ValueError:    \n",
    "                print(f\"Row {rowno}: Bad row: {row}\")\n",
    "\n",
    "    return total_cost\n",
    "\n",
    "\n",
    "cost = portfolio_cost_missing(\"Data/missing.csv\")\n",
    "print(cost)"
   ]
  },
  {
   "cell_type": "code",
   "execution_count": 10,
   "metadata": {},
   "outputs": [
    {
     "name": "stdout",
     "output_type": "stream",
     "text": [
      "44671.15\n"
     ]
    }
   ],
   "source": [
    "cost_date = portfolio_cost_missing(\"Data/portfoliodate.csv\")\n",
    "print(cost_date)"
   ]
  },
  {
   "cell_type": "code",
   "execution_count": 32,
   "metadata": {},
   "outputs": [
    {
     "name": "stdout",
     "output_type": "stream",
     "text": [
      "[{'name': 'AA', 'shares': 100, 'price': 32.2}, {'name': 'IBM', 'shares': 50, 'price': 91.1}, {'name': 'CAT', 'shares': 150, 'price': 83.44}, {'name': 'MSFT', 'shares': 200, 'price': 51.23}, {'name': 'GE', 'shares': 95, 'price': 40.37}, {'name': 'MSFT', 'shares': 50, 'price': 65.1}, {'name': 'IBM', 'shares': 100, 'price': 70.44}]\n"
     ]
    }
   ],
   "source": [
    "def read_portfolio_1(filename):\n",
    "    records = []\n",
    "    with open(filename, \"rt\") as file:\n",
    "        rows = csv.reader(file)\n",
    "        header = next(rows)\n",
    "        for row in rows:\n",
    "            stock = dict(zip(header, row))\n",
    "            item = {\n",
    "                header[0]: stock['name'],\n",
    "                header[1]: int(stock['shares']),\n",
    "                header[2]: float(stock['price']) \n",
    "            }\n",
    "            # print(stock)\n",
    "            records.append(item)\n",
    "            \n",
    "    return records\n",
    "\n",
    "portfolio_1 = read_portfolio_1(\"Data/portfolio.csv\")\n",
    "print(portfolio_1)"
   ]
  },
  {
   "cell_type": "markdown",
   "metadata": {},
   "source": [
    "### Exercise 2.17"
   ]
  },
  {
   "cell_type": "code",
   "execution_count": 21,
   "metadata": {},
   "outputs": [
    {
     "name": "stdout",
     "output_type": "stream",
     "text": [
      "[[('AA', 'name'), ('100', 'shares'), ('32.20', 'price')], [('CAT', 'name'), ('150', 'shares'), ('83.44', 'price')], [('GE', 'name'), ('95', 'shares'), ('40.37', 'price')], [('IBM', 'name'), ('100', 'shares'), ('70.44', 'price')], [('IBM', 'name'), ('50', 'shares'), ('91.10', 'price')], [('MSFT', 'name'), ('200', 'shares'), ('51.23', 'price')], [('MSFT', 'name'), ('50', 'shares'), ('65.10', 'price')]]\n"
     ]
    }
   ],
   "source": [
    "dictList = []\n",
    "for row in portfolio_1:\n",
    "    # print(row)\n",
    "    pricelist = list(zip(row.values(), row.keys()))\n",
    "    # print(pricelist)\n",
    "    # print(min(pricelist))\n",
    "    dictList.append(pricelist)\n",
    "print(sorted(dictList))"
   ]
  },
  {
   "cell_type": "markdown",
   "metadata": {},
   "source": [
    "### Exercise 2.18"
   ]
  },
  {
   "cell_type": "code",
   "execution_count": 43,
   "metadata": {},
   "outputs": [
    {
     "name": "stdout",
     "output_type": "stream",
     "text": [
      "defaultdict(<class 'list'>, {'AA': [(50, 23.15)], 'IBM': [(100, 45.23), (50, 91.1)], 'GOOG': [(75, 572.45), (100, 490.1)], 'CAT': [(150, 83.44)]})\n",
      "Counter({'MSFT': 250, 'IBM': 150, 'CAT': 150, 'AA': 100, 'GE': 95})\n",
      "150\n",
      "250\n",
      "[('MSFT', 250), ('IBM', 150), ('CAT', 150), ('AA', 100)]\n",
      "Counter({'HPQ': 250, 'GE': 125, 'AA': 50, 'MSFT': 25})\n",
      "Counter({'MSFT': 275, 'HPQ': 250, 'GE': 220, 'AA': 150, 'IBM': 150, 'CAT': 150})\n"
     ]
    }
   ],
   "source": [
    "port = {\n",
    "    (\"GOOG\", 100, 490.1), \n",
    "    (\"IBM\", 50, 91.1), \n",
    "    (\"CAT\", 150, 83.44), \n",
    "    (\"IBM\", 100, 45.23), \n",
    "    (\"GOOG\", 75, 572.45), \n",
    "    (\"AA\", 50, 23.15)\n",
    "}\n",
    "from collections import defaultdict, Counter\n",
    "\n",
    "holdings = defaultdict(list)\n",
    "for name, shares, price in port:\n",
    "    holdings[name].append((shares, price))\n",
    "print(holdings)\n",
    "\n",
    "\n",
    "counter = Counter()\n",
    "for row in portfolio_1:\n",
    "    counter[row[\"name\"]] += row[\"shares\"]\n",
    "print(counter)\n",
    "print(counter[\"IBM\"])\n",
    "print(counter[\"MSFT\"])\n",
    "print(counter.most_common(4))\n",
    "\n",
    "\n",
    "\n",
    "portfolio_2 = read_portfolio_1(\"Data/portfolio2.csv\")\n",
    "counter2 = Counter()\n",
    "for row in portfolio_2:\n",
    "    counter2[row[\"name\"]] += row[\"shares\"]\n",
    "print(counter2)\n",
    "\n",
    "combined = counter + counter2\n",
    "print(combined)"
   ]
  },
  {
   "cell_type": "code",
   "execution_count": 13,
   "metadata": {},
   "outputs": [
    {
     "name": "stdout",
     "output_type": "stream",
     "text": [
      "[33, 22, 55, 11, 44]\n"
     ]
    }
   ],
   "source": [
    "s = {11, 22, 33, 44, 55}\n",
    "sl  = list(s)\n",
    "print(sl)"
   ]
  }
 ],
 "metadata": {
  "kernelspec": {
   "display_name": "Python 3",
   "language": "python",
   "name": "python3"
  },
  "language_info": {
   "codemirror_mode": {
    "name": "ipython",
    "version": 3
   },
   "file_extension": ".py",
   "mimetype": "text/x-python",
   "name": "python",
   "nbconvert_exporter": "python",
   "pygments_lexer": "ipython3",
   "version": "3.11.8"
  }
 },
 "nbformat": 4,
 "nbformat_minor": 2
}

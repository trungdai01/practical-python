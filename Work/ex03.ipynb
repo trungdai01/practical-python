{
 "cells": [
  {
   "cell_type": "markdown",
   "metadata": {},
   "source": [
    "### Exercise 3.1 + 3.2\n"
   ]
  },
  {
   "cell_type": "code",
   "execution_count": 17,
   "metadata": {},
   "outputs": [],
   "source": [
    "import csv\n",
    "from pprint import pprint"
   ]
  },
  {
   "cell_type": "code",
   "execution_count": 18,
   "metadata": {},
   "outputs": [
    {
     "name": "stdout",
     "output_type": "stream",
     "text": [
      "      Name     Shares      Price     Change\n",
      "---------- ---------- ---------- ---------- \n",
      "        AA        100      $9.22     -22.98\n",
      "       IBM         50    $106.28      15.18\n",
      "       CAT        150     $35.46     -47.98\n",
      "      MSFT        200     $20.89     -30.34\n",
      "        GE         95     $13.48     -26.89\n",
      "      MSFT         50     $20.89     -44.21\n",
      "       IBM        100    $106.28      35.84\n"
     ]
    }
   ],
   "source": [
    "def read_portfolio(filename: str) -> list:\n",
    "    records = []\n",
    "    with open(filename, \"rt\") as file:\n",
    "        rows = csv.reader(file)\n",
    "        headers = next(rows)\n",
    "        types = [str, int, float]\n",
    "        records = [\n",
    "            {name: func(val) for name, func, val in zip(headers, types, row)} for row in rows\n",
    "        ]\n",
    "    return records\n",
    "\n",
    "\n",
    "def read_prices(filename: str) -> dict:\n",
    "    prices = {}\n",
    "    with open(filename, \"rt\") as file:\n",
    "        rows = csv.reader(file)\n",
    "        for row in rows:\n",
    "            try:\n",
    "                prices[row[0]] = float(row[1])\n",
    "            except IndexError:\n",
    "                pass\n",
    "    return prices\n",
    "\n",
    "\n",
    "def make_report_data(portfolio: list, prices: dict) -> list:\n",
    "    rows = []\n",
    "    for stock in portfolio:\n",
    "        cur_prices = prices[stock[\"name\"]]\n",
    "        change = cur_prices - stock[\"price\"]\n",
    "        summary = (stock[\"name\"], stock[\"shares\"], cur_prices, change)\n",
    "        rows.append(summary)\n",
    "    return rows\n",
    "\n",
    "\n",
    "def print_report(report_data: list):\n",
    "    headers = (\"Name\", \"Shares\", \"Price\", \"Change\")\n",
    "    print(\"%10s %10s %10s %10s\" % headers)\n",
    "    print((\"-\" * 10 + \" \") * len(headers))\n",
    "    for name, shares, price, change in report_data:\n",
    "        price_str = \"$\" + str(price)\n",
    "        print(f\"{name:>10s} {shares:>10d} {price_str:>10s} {change:>10.2f}\")\n",
    "\n",
    "\n",
    "def portfolio_report(portfolio_data: str, prices_data: str):\n",
    "    portfolio = read_portfolio(portfolio_data)\n",
    "    prices = read_prices(prices_data)\n",
    "    summary = make_report_data(portfolio, prices)\n",
    "    print_report(summary)\n",
    "\n",
    "\n",
    "portfolio_report(\"Data/portfolio.csv\", \"Data/prices.csv\")"
   ]
  },
  {
   "cell_type": "code",
   "execution_count": 19,
   "metadata": {},
   "outputs": [
    {
     "name": "stdout",
     "output_type": "stream",
     "text": [
      "------------Data/portfolio.csv-------------\n",
      "      Name     Shares      Price     Change\n",
      "---------- ---------- ---------- ---------- \n",
      "        AA        100      $9.22     -22.98\n",
      "       IBM         50    $106.28      15.18\n",
      "       CAT        150     $35.46     -47.98\n",
      "      MSFT        200     $20.89     -30.34\n",
      "        GE         95     $13.48     -26.89\n",
      "      MSFT         50     $20.89     -44.21\n",
      "       IBM        100    $106.28      35.84\n",
      "\n",
      "------------Data/portfolio2.csv------------\n",
      "      Name     Shares      Price     Change\n",
      "---------- ---------- ---------- ---------- \n",
      "        AA         50      $9.22     -17.88\n",
      "       HPQ        250     $34.35      -8.80\n",
      "      MSFT         25     $20.89     -29.26\n",
      "        GE        125     $13.48     -38.62\n",
      "\n"
     ]
    }
   ],
   "source": [
    "# portfolio_report(\"Data/portfolio2.csv\", \"Data/prices.csv\")\n",
    "files = [\"Data/portfolio.csv\", \"Data/portfolio2.csv\"]\n",
    "for name in files:\n",
    "    print(f\"{name:-^43s}\")\n",
    "    portfolio_report(name, \"Data/prices.csv\")\n",
    "    print()"
   ]
  },
  {
   "cell_type": "markdown",
   "metadata": {},
   "source": [
    "### Exercise 3.3\n"
   ]
  },
  {
   "cell_type": "code",
   "execution_count": 20,
   "metadata": {},
   "outputs": [],
   "source": [
    "def parse_csv(filename):\n",
    "    \"\"\"\n",
    "    Parse a CSV file into a list of records\n",
    "    \"\"\"\n",
    "    with open(filename) as file:\n",
    "        rows = csv.reader(file)\n",
    "        headers = next(rows)\n",
    "        records = []\n",
    "        for row in rows:\n",
    "            if not row:\n",
    "                continue\n",
    "            record = dict(zip(headers, row))\n",
    "            records.append(record)\n",
    "\n",
    "    return records"
   ]
  },
  {
   "cell_type": "code",
   "execution_count": 21,
   "metadata": {},
   "outputs": [
    {
     "name": "stdout",
     "output_type": "stream",
     "text": [
      "[{'name': 'AA', 'shares': '100', 'price': '32.20'}, {'name': 'IBM', 'shares': '50', 'price': '91.10'}, {'name': 'CAT', 'shares': '150', 'price': '83.44'}, {'name': 'MSFT', 'shares': '200', 'price': '51.23'}, {'name': 'GE', 'shares': '95', 'price': '40.37'}, {'name': 'MSFT', 'shares': '50', 'price': '65.10'}, {'name': 'IBM', 'shares': '100', 'price': '70.44'}]\n"
     ]
    }
   ],
   "source": [
    "portfolio = parse_csv(\"Data/portfolio.csv\")\n",
    "print(portfolio)"
   ]
  },
  {
   "cell_type": "markdown",
   "metadata": {},
   "source": [
    "### Exercise 3.4\n"
   ]
  },
  {
   "cell_type": "code",
   "execution_count": 22,
   "metadata": {},
   "outputs": [],
   "source": [
    "def parse_csv_with_select(filename, select=None):\n",
    "    \"\"\"\n",
    "    Parse a CSV file with predefined cols into a list of records\n",
    "    \"\"\"\n",
    "    with open(filename) as file:\n",
    "        rows = csv.reader(file)\n",
    "        headers = next(rows)\n",
    "        if select is not None:\n",
    "            indices = [headers.index(colname) for colname in select]\n",
    "            parse_headers = select\n",
    "        else:\n",
    "            indices = []\n",
    "            parse_headers = headers\n",
    "        records = []\n",
    "        for row in rows:\n",
    "            if not row:\n",
    "                continue\n",
    "            if indices:\n",
    "                row = [row[index] for index in indices]\n",
    "            record = dict(zip(parse_headers, row))\n",
    "            records.append(record)\n",
    "\n",
    "    return records"
   ]
  },
  {
   "cell_type": "code",
   "execution_count": 23,
   "metadata": {},
   "outputs": [
    {
     "name": "stdout",
     "output_type": "stream",
     "text": [
      "[{'name': 'AA', 'shares': '100'}, {'name': 'IBM', 'shares': '50'}, {'name': 'CAT', 'shares': '150'}, {'name': 'MSFT', 'shares': '200'}, {'name': 'GE', 'shares': '95'}, {'name': 'MSFT', 'shares': '50'}, {'name': 'IBM', 'shares': '100'}]\n"
     ]
    }
   ],
   "source": [
    "headers = [\"name\", \"date\", \"time\", \"shares\", \"price\"]\n",
    "select = [\"name\", \"shares\"]\n",
    "portfolio_select = parse_csv_with_select(\"Data/portfolio.csv\", select=select)\n",
    "print(portfolio_select)"
   ]
  },
  {
   "cell_type": "markdown",
   "metadata": {},
   "source": [
    "### Exercise 3.5\n"
   ]
  },
  {
   "cell_type": "code",
   "execution_count": 24,
   "metadata": {},
   "outputs": [],
   "source": [
    "def parse_csv_with_types(filename, types=None):\n",
    "    \"\"\"\n",
    "    Parse a CSV file with predefined cols into a list of records\n",
    "    \"\"\"\n",
    "    with open(filename) as file:\n",
    "        rows = csv.reader(file)\n",
    "        headers = next(rows)\n",
    "        records = []\n",
    "        for row in rows:\n",
    "            if not row:\n",
    "                continue\n",
    "            if types:\n",
    "                row = [func(val) for func, val in zip(types, row)]\n",
    "            record = dict(zip(headers, row))\n",
    "            records.append(record)\n",
    "\n",
    "    return records"
   ]
  },
  {
   "cell_type": "code",
   "execution_count": 25,
   "metadata": {},
   "outputs": [
    {
     "name": "stdout",
     "output_type": "stream",
     "text": [
      "[{'name': 'AA', 'shares': 100}, {'name': 'IBM', 'shares': 50}, {'name': 'CAT', 'shares': 150}, {'name': 'MSFT', 'shares': 200}, {'name': 'GE', 'shares': 95}, {'name': 'MSFT', 'shares': 50}, {'name': 'IBM', 'shares': 100}]\n"
     ]
    }
   ],
   "source": [
    "types = [str, int]\n",
    "portfolio_types = parse_csv_with_types(\"Data/portfolio.csv\", types=types)\n",
    "print(portfolio_types)"
   ]
  },
  {
   "cell_type": "markdown",
   "metadata": {},
   "source": [
    "### Exercise 3.6\n"
   ]
  },
  {
   "cell_type": "code",
   "execution_count": 26,
   "metadata": {},
   "outputs": [],
   "source": [
    "def parse_csv_without_headers(filename, types=None, has_headers=True):\n",
    "    \"\"\"\n",
    "    Parse a CSV file with predefined cols into a list of records\n",
    "    \"\"\"\n",
    "    with open(filename) as file:\n",
    "        rows = csv.reader(file)\n",
    "        headers = next(rows) if has_headers else []\n",
    "        records = []\n",
    "        for row in rows:\n",
    "            if not row:\n",
    "                continue\n",
    "            if types:\n",
    "                row = [func(val) for func, val in zip(types, row)]\n",
    "            if has_headers:\n",
    "                record = dict(zip(headers, row))\n",
    "            else:\n",
    "                record = tuple(row)\n",
    "            records.append(record)\n",
    "\n",
    "    return records"
   ]
  },
  {
   "cell_type": "code",
   "execution_count": 27,
   "metadata": {},
   "outputs": [
    {
     "name": "stdout",
     "output_type": "stream",
     "text": [
      "[('AA', 9.22), ('AXP', 24.85), ('BA', 44.85), ('BAC', 11.27), ('C', 3.72), ('CAT', 35.46), ('CVX', 66.67), ('DD', 28.47), ('DIS', 24.22), ('GE', 13.48), ('GM', 0.75), ('HD', 23.16), ('HPQ', 34.35), ('IBM', 106.28), ('INTC', 15.72), ('JNJ', 55.16), ('JPM', 36.9), ('KFT', 26.11), ('KO', 49.16), ('MCD', 58.99), ('MMM', 57.1), ('MRK', 27.58), ('MSFT', 20.89), ('PFE', 15.19), ('PG', 51.94), ('T', 24.79), ('UTX', 52.61), ('VZ', 29.26), ('WMT', 49.74), ('XOM', 69.35)]\n"
     ]
    }
   ],
   "source": [
    "types = [str, float]\n",
    "prices = parse_csv_without_headers(\"Data/prices.csv\", types=types, has_headers=False)\n",
    "print(prices)"
   ]
  },
  {
   "cell_type": "markdown",
   "metadata": {},
   "source": [
    "### Exercise 3.7\n"
   ]
  },
  {
   "cell_type": "code",
   "execution_count": 28,
   "metadata": {},
   "outputs": [],
   "source": [
    "def parse_csv_with_delimiter(filename, types=None, delimiter=\" \"):\n",
    "    \"\"\"\n",
    "    Parse a CSV file with predefined cols into a list of records\n",
    "    \"\"\"\n",
    "    with open(filename) as file:\n",
    "        rows = csv.reader(file, delimiter=delimiter)\n",
    "        headers = next(rows)\n",
    "        records = []\n",
    "        for row in rows:\n",
    "            if not row:\n",
    "                continue\n",
    "            if types:\n",
    "                row = [func(val) for func, val in zip(types, row)]\n",
    "            record = dict(zip(headers, row))\n",
    "            records.append(record)\n",
    "\n",
    "    return records"
   ]
  },
  {
   "cell_type": "code",
   "execution_count": 29,
   "metadata": {},
   "outputs": [
    {
     "name": "stdout",
     "output_type": "stream",
     "text": [
      "[{'name': 'AA', 'shares': 100, 'price': 32.2}, {'name': 'IBM', 'shares': 50, 'price': 91.1}, {'name': 'CAT', 'shares': 150, 'price': 83.44}, {'name': 'MSFT', 'shares': 200, 'price': 51.23}, {'name': 'GE', 'shares': 95, 'price': 40.37}, {'name': 'MSFT', 'shares': 50, 'price': 65.1}, {'name': 'IBM', 'shares': 100, 'price': 70.44}]\n"
     ]
    }
   ],
   "source": [
    "portfolio = parse_csv_with_delimiter(\"Data/portfolio.dat\", types=[str, int, float], delimiter=\" \")\n",
    "print(portfolio)"
   ]
  },
  {
   "cell_type": "code",
   "execution_count": 30,
   "metadata": {},
   "outputs": [],
   "source": [
    "def parse_csv(filename, select=None, types=None, has_headers=True, delimiter=\",\"):\n",
    "    \"\"\"\n",
    "    Parse a CSV file with predefined cols into a list of records\n",
    "    \"\"\"\n",
    "    with open(filename) as file:\n",
    "        rows = csv.reader(file, delimiter=delimiter)\n",
    "        headers = next(rows) if has_headers else []\n",
    "        if select:\n",
    "            indices = [headers.index(colname) for colname in select]\n",
    "            parse_headers = select\n",
    "        else:\n",
    "            indices = []\n",
    "            parse_headers = headers\n",
    "        records = []\n",
    "        for row in rows:\n",
    "            if not row:\n",
    "                continue\n",
    "            if indices:\n",
    "                row = [row[index] for index in indices]\n",
    "            if types:\n",
    "                row = [func(val) for func, val in zip(types, row)]\n",
    "            if has_headers:\n",
    "                record = dict(zip(parse_headers, row))\n",
    "            else:\n",
    "                record = tuple(row)\n",
    "            records.append(record)\n",
    "\n",
    "    return records"
   ]
  },
  {
   "cell_type": "code",
   "execution_count": 31,
   "metadata": {},
   "outputs": [
    {
     "name": "stdout",
     "output_type": "stream",
     "text": [
      "[{'name': 'AA', 'shares': '100', 'price': '32.20'}, {'name': 'IBM', 'shares': '50', 'price': '91.10'}, {'name': 'CAT', 'shares': '150', 'price': '83.44'}, {'name': 'MSFT', 'shares': '200', 'price': '51.23'}, {'name': 'GE', 'shares': '95', 'price': '40.37'}, {'name': 'MSFT', 'shares': '50', 'price': '65.10'}, {'name': 'IBM', 'shares': '100', 'price': '70.44'}]\n",
      "[{'name': 'AA', 'shares': '100'}, {'name': 'IBM', 'shares': '50'}, {'name': 'CAT', 'shares': '150'}, {'name': 'MSFT', 'shares': '200'}, {'name': 'GE', 'shares': '95'}, {'name': 'MSFT', 'shares': '50'}, {'name': 'IBM', 'shares': '100'}]\n",
      "[{'name': 'AA', 'shares': 100, 'price': 32.2}, {'name': 'IBM', 'shares': 50, 'price': 91.1}, {'name': 'CAT', 'shares': 150, 'price': 83.44}, {'name': 'MSFT', 'shares': 200, 'price': 51.23}, {'name': 'GE', 'shares': 95, 'price': 40.37}, {'name': 'MSFT', 'shares': 50, 'price': 65.1}, {'name': 'IBM', 'shares': 100, 'price': 70.44}]\n",
      "[('AA', 9.22), ('AXP', 24.85), ('BA', 44.85), ('BAC', 11.27), ('C', 3.72), ('CAT', 35.46), ('CVX', 66.67), ('DD', 28.47), ('DIS', 24.22), ('GE', 13.48), ('GM', 0.75), ('HD', 23.16), ('HPQ', 34.35), ('IBM', 106.28), ('INTC', 15.72), ('JNJ', 55.16), ('JPM', 36.9), ('KFT', 26.11), ('KO', 49.16), ('MCD', 58.99), ('MMM', 57.1), ('MRK', 27.58), ('MSFT', 20.89), ('PFE', 15.19), ('PG', 51.94), ('T', 24.79), ('UTX', 52.61), ('VZ', 29.26), ('WMT', 49.74), ('XOM', 69.35)]\n",
      "[{'name': 'AA', 'shares': 100, 'price': 32.2}, {'name': 'IBM', 'shares': 50, 'price': 91.1}, {'name': 'CAT', 'shares': 150, 'price': 83.44}, {'name': 'MSFT', 'shares': 200, 'price': 51.23}, {'name': 'GE', 'shares': 95, 'price': 40.37}, {'name': 'MSFT', 'shares': 50, 'price': 65.1}, {'name': 'IBM', 'shares': 100, 'price': 70.44}]\n"
     ]
    }
   ],
   "source": [
    "portfolio = parse_csv(\"Data/portfolio.csv\")\n",
    "print(portfolio)\n",
    "\n",
    "select = [\"name\", \"shares\"]\n",
    "portfolio = parse_csv(\"Data/portfolio.csv\", select=select)\n",
    "print(portfolio)\n",
    "\n",
    "types = [str, int, float]\n",
    "portfolio = parse_csv(\"Data/portfolio.csv\", types=types)\n",
    "print(portfolio)\n",
    "\n",
    "prices = parse_csv(\"Data/prices.csv\", types=[str, float], has_headers=False)\n",
    "print(prices)\n",
    "\n",
    "portfolio = parse_csv(\n",
    "    \"Data/portfolio.dat\",\n",
    "    types=[str, int, float],\n",
    "    delimiter=\" \",\n",
    ")\n",
    "print(portfolio)"
   ]
  },
  {
   "cell_type": "markdown",
   "metadata": {},
   "source": [
    "### Exercise 3.8"
   ]
  },
  {
   "cell_type": "code",
   "execution_count": 35,
   "metadata": {},
   "outputs": [
    {
     "ename": "RuntimeError",
     "evalue": "select argument requires column headers",
     "output_type": "error",
     "traceback": [
      "\u001b[1;31m---------------------------------------------------------------------------\u001b[0m",
      "\u001b[1;31mRuntimeError\u001b[0m                              Traceback (most recent call last)",
      "Cell \u001b[1;32mIn[35], line 35\u001b[0m\n\u001b[0;32m     30\u001b[0m             records\u001b[38;5;241m.\u001b[39mappend(record)\n\u001b[0;32m     32\u001b[0m     \u001b[38;5;28;01mreturn\u001b[39;00m records\n\u001b[1;32m---> 35\u001b[0m \u001b[43mparse_csv\u001b[49m\u001b[43m(\u001b[49m\u001b[38;5;124;43m\"\u001b[39;49m\u001b[38;5;124;43mData/prices.csv\u001b[39;49m\u001b[38;5;124;43m\"\u001b[39;49m\u001b[43m,\u001b[49m\u001b[43m \u001b[49m\u001b[43mselect\u001b[49m\u001b[38;5;241;43m=\u001b[39;49m\u001b[43m[\u001b[49m\u001b[38;5;124;43m\"\u001b[39;49m\u001b[38;5;124;43mname\u001b[39;49m\u001b[38;5;124;43m\"\u001b[39;49m\u001b[43m,\u001b[49m\u001b[43m \u001b[49m\u001b[38;5;124;43m\"\u001b[39;49m\u001b[38;5;124;43mprice\u001b[39;49m\u001b[38;5;124;43m\"\u001b[39;49m\u001b[43m]\u001b[49m\u001b[43m,\u001b[49m\u001b[43m \u001b[49m\u001b[43mhas_headers\u001b[49m\u001b[38;5;241;43m=\u001b[39;49m\u001b[38;5;28;43;01mFalse\u001b[39;49;00m\u001b[43m)\u001b[49m\n",
      "Cell \u001b[1;32mIn[35], line 8\u001b[0m, in \u001b[0;36mparse_csv\u001b[1;34m(filename, select, types, has_headers, delimiter)\u001b[0m\n\u001b[0;32m      4\u001b[0m \u001b[38;5;250m\u001b[39m\u001b[38;5;124;03m\"\"\"\u001b[39;00m\n\u001b[0;32m      5\u001b[0m \u001b[38;5;124;03mParse a CSV file with predefined cols into a list of records\u001b[39;00m\n\u001b[0;32m      6\u001b[0m \u001b[38;5;124;03m\"\"\"\u001b[39;00m\n\u001b[0;32m      7\u001b[0m \u001b[38;5;28;01mif\u001b[39;00m select \u001b[38;5;129;01mand\u001b[39;00m \u001b[38;5;129;01mnot\u001b[39;00m has_headers:\n\u001b[1;32m----> 8\u001b[0m     \u001b[38;5;28;01mraise\u001b[39;00m \u001b[38;5;167;01mRuntimeError\u001b[39;00m(\u001b[38;5;124m\"\u001b[39m\u001b[38;5;124mselect argument requires column headers\u001b[39m\u001b[38;5;124m\"\u001b[39m)\n\u001b[0;32m      9\u001b[0m \u001b[38;5;28;01mwith\u001b[39;00m \u001b[38;5;28mopen\u001b[39m(filename) \u001b[38;5;28;01mas\u001b[39;00m file:\n\u001b[0;32m     10\u001b[0m     rows \u001b[38;5;241m=\u001b[39m csv\u001b[38;5;241m.\u001b[39mreader(file, delimiter\u001b[38;5;241m=\u001b[39mdelimiter)\n",
      "\u001b[1;31mRuntimeError\u001b[0m: select argument requires column headers"
     ]
    }
   ],
   "source": [
    "def parse_csv(filename, select=None, types=None, has_headers=True, delimiter=\",\"):\n",
    "    \"\"\"\n",
    "    Parse a CSV file with predefined cols into a list of records\n",
    "    \"\"\"\n",
    "    if select and not has_headers:\n",
    "        raise RuntimeError(\"select argument requires column headers\")\n",
    "    with open(filename) as file:\n",
    "        rows = csv.reader(file, delimiter=delimiter)\n",
    "        headers = next(rows) if has_headers else []\n",
    "        if select:\n",
    "            indices = [headers.index(colname) for colname in select]\n",
    "            parse_headers = select\n",
    "        else:\n",
    "            indices = []\n",
    "            parse_headers = headers\n",
    "        records = []\n",
    "        for row in rows:\n",
    "            if not row:\n",
    "                continue\n",
    "            if indices:\n",
    "                row = [row[index] for index in indices]\n",
    "            if types:\n",
    "                row = [func(val) for func, val in zip(types, row)]\n",
    "            if has_headers:\n",
    "                record = dict(zip(parse_headers, row))\n",
    "            else:\n",
    "                record = tuple(row)\n",
    "            records.append(record)\n",
    "\n",
    "    return records\n",
    "\n",
    "\n",
    "parse_csv(\"Data/prices.csv\", select=[\"name\", \"price\"], has_headers=False)"
   ]
  },
  {
   "cell_type": "markdown",
   "metadata": {},
   "source": [
    "### Exercise 3.9\n"
   ]
  },
  {
   "cell_type": "code",
   "execution_count": 36,
   "metadata": {},
   "outputs": [
    {
     "name": "stdout",
     "output_type": "stream",
     "text": [
      "Row 4: Couldn't convert ['MSFT', '', '51.23']\n",
      "Row 4: Reason invalid literal for int() with base 10: ''\n",
      "Row 7: Couldn't convert ['IBM', '', '70.44']\n",
      "Row 7: Reason invalid literal for int() with base 10: ''\n",
      "[{'name': 'AA', 'shares': 100, 'price': 32.2}, {'name': 'IBM', 'shares': 50, 'price': 91.1}, {'name': 'CAT', 'shares': 150, 'price': 83.44}, {'name': 'MSFT', 'shares': '', 'price': '51.23'}, {'name': 'GE', 'shares': 95, 'price': 40.37}, {'name': 'MSFT', 'shares': 50, 'price': 65.1}, {'name': 'IBM', 'shares': '', 'price': '70.44'}]\n"
     ]
    }
   ],
   "source": [
    "def parse_csv(filename, select=None, types=None, has_headers=True, delimiter=\",\"):\n",
    "    \"\"\"\n",
    "    Parse a CSV file with predefined cols into a list of records\n",
    "    \"\"\"\n",
    "    if select and not has_headers:\n",
    "        raise RuntimeError(\"select argument requires column headers\")\n",
    "    with open(filename) as file:\n",
    "        rows = csv.reader(file, delimiter=delimiter)\n",
    "        headers = next(rows) if has_headers else []\n",
    "        if select:\n",
    "            indices = [headers.index(colname) for colname in select]\n",
    "            parse_headers = select\n",
    "        else:\n",
    "            indices = []\n",
    "            parse_headers = headers\n",
    "        records = []\n",
    "        for rowno, row in enumerate(rows, 1):\n",
    "            if not row:\n",
    "                continue\n",
    "            if indices:\n",
    "                row = [row[index] for index in indices]\n",
    "            if types:\n",
    "                try:\n",
    "                    row = [func(val) for func, val in zip(types, row)]\n",
    "                except Exception as e:\n",
    "                    print(f\"Row {rowno}: Couldn't convert {row}\")\n",
    "                    print(f\"Row {rowno}: Reason {e}\")\n",
    "            if has_headers:\n",
    "                record = dict(zip(parse_headers, row))\n",
    "            else:\n",
    "                record = tuple(row)\n",
    "            records.append(record)\n",
    "\n",
    "    return records\n",
    "\n",
    "\n",
    "portfolio = parse_csv(\"Data/missing.csv\", types=[str, int, float])\n",
    "print(portfolio)"
   ]
  },
  {
   "cell_type": "markdown",
   "metadata": {},
   "source": [
    "### Exercise 3.10"
   ]
  },
  {
   "cell_type": "code",
   "execution_count": 41,
   "metadata": {},
   "outputs": [
    {
     "name": "stdout",
     "output_type": "stream",
     "text": [
      "[{'name': 'AA', 'shares': 100, 'price': 32.2}, {'name': 'IBM', 'shares': 50, 'price': 91.1}, {'name': 'CAT', 'shares': 150, 'price': 83.44}, {'name': 'GE', 'shares': 95, 'price': 40.37}, {'name': 'MSFT', 'shares': 50, 'price': 65.1}]\n"
     ]
    }
   ],
   "source": [
    "def parse_csv(\n",
    "    filename,\n",
    "    select=None,\n",
    "    types=None,\n",
    "    has_headers=True,\n",
    "    delimiter=\",\",\n",
    "    silence_errors=False,\n",
    "):\n",
    "    \"\"\"\n",
    "    Parse a CSV file with predefined cols into a list of records\n",
    "    \"\"\"\n",
    "    if select and not has_headers:\n",
    "        raise RuntimeError(\"select argument requires column headers\")\n",
    "    with open(filename) as file:\n",
    "        rows = csv.reader(file, delimiter=delimiter)\n",
    "        headers = next(rows) if has_headers else []\n",
    "        if select:\n",
    "            indices = [headers.index(colname) for colname in select]\n",
    "            parse_headers = select\n",
    "        else:\n",
    "            indices = []\n",
    "            parse_headers = headers\n",
    "        records = []\n",
    "        for rowno, row in enumerate(rows, 1):\n",
    "            if not row:\n",
    "                continue\n",
    "            if indices:\n",
    "                row = [row[index] for index in indices]\n",
    "            if types:\n",
    "                try:\n",
    "                    row = [func(val) for func, val in zip(types, row)]\n",
    "                except Exception as e:\n",
    "                    if not silence_errors:\n",
    "                        print(f\"Row {rowno}: Couldn't convert {row}\")\n",
    "                        print(f\"Row {rowno}: Reason {e}\")\n",
    "                    continue\n",
    "            if has_headers:\n",
    "                record = dict(zip(parse_headers, row))\n",
    "            else:\n",
    "                record = tuple(row)\n",
    "            records.append(record)\n",
    "\n",
    "    return records\n",
    "\n",
    "\n",
    "portfolio = parse_csv(\"Data/missing.csv\", types=[str, int, float], silence_errors=True)\n",
    "print(portfolio)"
   ]
  }
 ],
 "metadata": {
  "kernelspec": {
   "display_name": "Python 3",
   "language": "python",
   "name": "python3"
  },
  "language_info": {
   "codemirror_mode": {
    "name": "ipython",
    "version": 3
   },
   "file_extension": ".py",
   "mimetype": "text/x-python",
   "name": "python",
   "nbconvert_exporter": "python",
   "pygments_lexer": "ipython3",
   "version": "3.11.8"
  }
 },
 "nbformat": 4,
 "nbformat_minor": 2
}
